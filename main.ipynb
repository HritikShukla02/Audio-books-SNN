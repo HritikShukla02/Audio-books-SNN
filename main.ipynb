{
 "cells": [
  {
   "cell_type": "markdown",
   "metadata": {},
   "source": [
    "### Importing Packages:"
   ]
  },
  {
   "cell_type": "code",
   "execution_count": 1,
   "metadata": {},
   "outputs": [],
   "source": [
    "import numpy as np\n",
    "import tensorflow as tf\n",
    "from sklearn import preprocessing"
   ]
  },
  {
   "cell_type": "markdown",
   "metadata": {},
   "source": [
    "### Importing Dataset: "
   ]
  },
  {
   "cell_type": "code",
   "execution_count": 2,
   "metadata": {},
   "outputs": [],
   "source": [
    "# Importing dataset\n",
    "raw_data = np.loadtxt('./Audiobooks_data.csv', delimiter=\",\")"
   ]
  },
  {
   "cell_type": "markdown",
   "metadata": {},
   "source": [
    "### Balancing the dataset:"
   ]
  },
  {
   "cell_type": "code",
   "execution_count": 3,
   "metadata": {},
   "outputs": [
    {
     "data": {
      "text/plain": [
       "(4474, 12)"
      ]
     },
     "execution_count": 3,
     "metadata": {},
     "output_type": "execute_result"
    }
   ],
   "source": [
    "num_ones = np.sum(raw_data[:,-1])\n",
    "indices_to_delete = []\n",
    "zero_count = 0\n",
    "for i in range(raw_data.shape[0]):\n",
    "    if (raw_data[i,-1] == 0):\n",
    "        zero_count += 1\n",
    "        if zero_count > num_ones:\n",
    "            indices_to_delete.append(i)\n",
    "data = np.delete(raw_data, indices_to_delete, axis=0)\n",
    "data.shape"
   ]
  },
  {
   "cell_type": "markdown",
   "metadata": {},
   "source": [
    "### Shuffeling the dataset"
   ]
  },
  {
   "cell_type": "code",
   "execution_count": 4,
   "metadata": {},
   "outputs": [],
   "source": [
    "#  shuffling the dataset\n",
    "np.random.shuffle(data)"
   ]
  },
  {
   "cell_type": "markdown",
   "metadata": {},
   "source": [
    "### Distributing the dataset into training, testing and validation sections:"
   ]
  },
  {
   "cell_type": "code",
   "execution_count": 5,
   "metadata": {},
   "outputs": [],
   "source": [
    "# Dividing the dataset into training, testing and validation sections:\n",
    "num_training = int(0.8*data.shape[0])\n",
    "num_validate = int(0.1*data.shape[0])\n",
    "num_testing = data.shape[0] - (num_training + num_validate)\n",
    "\n",
    "input_data = data[:, 1:-1]\n",
    "output_data = data[:,-1]\n"
   ]
  },
  {
   "cell_type": "markdown",
   "metadata": {},
   "source": [
    "### Scaling the inputs:"
   ]
  },
  {
   "cell_type": "code",
   "execution_count": 6,
   "metadata": {},
   "outputs": [],
   "source": [
    "#Scaling the input data before dividing into categories:\n",
    "input_data = preprocessing.scale(input_data)"
   ]
  },
  {
   "cell_type": "code",
   "execution_count": 7,
   "metadata": {},
   "outputs": [],
   "source": [
    "\n",
    "# Dividing the data into categories:\n",
    "training_input = input_data[:num_training]\n",
    "training_output = output_data[:num_training]\n",
    "\n",
    "validating_input = input_data[num_training:num_training + num_validate]\n",
    "validating_output = output_data[num_training:num_training + num_validate]\n",
    "\n",
    "testing_input = input_data[num_training + num_validate:]\n",
    "testing_output = output_data[num_training + num_validate:]"
   ]
  },
  {
   "cell_type": "code",
   "execution_count": 8,
   "metadata": {},
   "outputs": [
    {
     "name": "stdout",
     "output_type": "stream",
     "text": [
      "0.49678681195864766\n",
      "0.5145413870246085\n",
      "0.5111607142857143\n"
     ]
    }
   ],
   "source": [
    "print((np.sum(training_output))/training_output.shape[0])\n",
    "print((np.sum(validating_output))/validating_output.shape[0])\n",
    "print((np.sum(testing_output))/testing_output.shape[0])"
   ]
  },
  {
   "cell_type": "markdown",
   "metadata": {},
   "source": [
    "### Saving the datasets"
   ]
  },
  {
   "cell_type": "code",
   "execution_count": 11,
   "metadata": {},
   "outputs": [],
   "source": [
    "np.savez(\"Audiobook_training\", inputs=training_input, outputs=training_output)\n",
    "np.savez(\"Audiobook_validate\", inputs=validating_input, outputs=validating_output)\n",
    "np.savez(\"Audiobook_testing\", inputs=testing_input, outputs=testing_output)\n"
   ]
  },
  {
   "cell_type": "code",
   "execution_count": null,
   "metadata": {},
   "outputs": [],
   "source": []
  }
 ],
 "metadata": {
  "kernelspec": {
   "display_name": ".venv",
   "language": "python",
   "name": "python3"
  },
  "language_info": {
   "codemirror_mode": {
    "name": "ipython",
    "version": 3
   },
   "file_extension": ".py",
   "mimetype": "text/x-python",
   "name": "python",
   "nbconvert_exporter": "python",
   "pygments_lexer": "ipython3",
   "version": "3.12.6"
  }
 },
 "nbformat": 4,
 "nbformat_minor": 2
}
