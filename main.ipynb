{
 "cells": [
  {
   "cell_type": "markdown",
   "metadata": {},
   "source": [
    "### Importing Modules"
   ]
  },
  {
   "cell_type": "code",
   "execution_count": 1,
   "metadata": {},
   "outputs": [],
   "source": [
    "import numpy as np\n",
    "import tensorflow as tf"
   ]
  },
  {
   "cell_type": "markdown",
   "metadata": {},
   "source": [
    "### Importing Datasets"
   ]
  },
  {
   "cell_type": "code",
   "execution_count": 2,
   "metadata": {},
   "outputs": [],
   "source": [
    "# Loading Training data\n",
    "npz = np.load('Audiobook_training.npz')\n",
    "\n",
    "training_input = npz['inputs'].astype(np.float64)\n",
    "training_output = npz['outputs'].astype(np.int32)\n",
    "\n",
    "# Loading Validation data\n",
    "npz = np.load('Audiobook_validate.npz')\n",
    "\n",
    "validating_input = npz['inputs'].astype(np.float64)\n",
    "validating_output = npz['outputs'].astype(np.int32)"
   ]
  },
  {
   "cell_type": "markdown",
   "metadata": {},
   "source": [
    "### Model"
   ]
  },
  {
   "cell_type": "code",
   "execution_count": 7,
   "metadata": {},
   "outputs": [
    {
     "name": "stdout",
     "output_type": "stream",
     "text": [
      "Epoch 1/100\n",
      "4/4 - 4s - 991ms/step - accuracy: 0.4996 - loss: 0.7108 - val_accuracy: 0.6465 - val_loss: 0.6587\n",
      "Epoch 2/100\n",
      "4/4 - 0s - 27ms/step - accuracy: 0.5557 - loss: 0.6766 - val_accuracy: 0.6957 - val_loss: 0.6191\n",
      "Epoch 3/100\n",
      "4/4 - 0s - 41ms/step - accuracy: 0.6309 - loss: 0.6434 - val_accuracy: 0.7338 - val_loss: 0.5640\n",
      "Epoch 4/100\n",
      "4/4 - 0s - 83ms/step - accuracy: 0.6616 - loss: 0.6004 - val_accuracy: 0.7405 - val_loss: 0.5056\n",
      "Epoch 5/100\n",
      "4/4 - 0s - 42ms/step - accuracy: 0.6832 - loss: 0.5590 - val_accuracy: 0.7740 - val_loss: 0.4520\n",
      "Epoch 6/100\n",
      "4/4 - 0s - 45ms/step - accuracy: 0.7144 - loss: 0.5121 - val_accuracy: 0.7763 - val_loss: 0.4130\n",
      "Epoch 7/100\n",
      "4/4 - 0s - 44ms/step - accuracy: 0.7293 - loss: 0.4901 - val_accuracy: 0.7987 - val_loss: 0.3866\n",
      "Epoch 8/100\n",
      "4/4 - 0s - 46ms/step - accuracy: 0.7346 - loss: 0.4704 - val_accuracy: 0.8031 - val_loss: 0.3752\n",
      "Epoch 9/100\n",
      "4/4 - 0s - 41ms/step - accuracy: 0.7488 - loss: 0.4530 - val_accuracy: 0.8121 - val_loss: 0.3667\n",
      "Epoch 10/100\n",
      "4/4 - 0s - 28ms/step - accuracy: 0.7469 - loss: 0.4439 - val_accuracy: 0.8210 - val_loss: 0.3610\n",
      "Epoch 11/100\n",
      "4/4 - 0s - 24ms/step - accuracy: 0.7455 - loss: 0.4487 - val_accuracy: 0.8210 - val_loss: 0.3609\n",
      "Epoch 12/100\n",
      "4/4 - 0s - 24ms/step - accuracy: 0.7617 - loss: 0.4269 - val_accuracy: 0.8143 - val_loss: 0.3574\n",
      "Epoch 13/100\n",
      "4/4 - 0s - 43ms/step - accuracy: 0.7594 - loss: 0.4249 - val_accuracy: 0.8210 - val_loss: 0.3558\n",
      "Epoch 14/100\n",
      "4/4 - 0s - 30ms/step - accuracy: 0.7578 - loss: 0.4217 - val_accuracy: 0.8188 - val_loss: 0.3531\n",
      "Epoch 15/100\n",
      "4/4 - 0s - 24ms/step - accuracy: 0.7826 - loss: 0.4029 - val_accuracy: 0.8166 - val_loss: 0.3480\n",
      "Epoch 16/100\n",
      "4/4 - 0s - 24ms/step - accuracy: 0.7583 - loss: 0.4218 - val_accuracy: 0.8188 - val_loss: 0.3452\n",
      "Epoch 17/100\n",
      "4/4 - 0s - 23ms/step - accuracy: 0.7759 - loss: 0.4024 - val_accuracy: 0.8166 - val_loss: 0.3425\n",
      "Epoch 18/100\n",
      "4/4 - 0s - 22ms/step - accuracy: 0.7754 - loss: 0.4069 - val_accuracy: 0.8166 - val_loss: 0.3421\n",
      "Epoch 19/100\n",
      "4/4 - 0s - 24ms/step - accuracy: 0.7756 - loss: 0.3983 - val_accuracy: 0.8143 - val_loss: 0.3421\n",
      "Epoch 20/100\n",
      "4/4 - 0s - 24ms/step - accuracy: 0.7745 - loss: 0.3985 - val_accuracy: 0.8098 - val_loss: 0.3427\n"
     ]
    },
    {
     "data": {
      "text/plain": [
       "<keras.src.callbacks.history.History at 0x23cfb1f73e0>"
      ]
     },
     "execution_count": 7,
     "metadata": {},
     "output_type": "execute_result"
    }
   ],
   "source": [
    "INPUT_SIZE = 10\n",
    "OUTPUT_SIZE = 2\n",
    "HIDDEN_LAYER_SIZE = 100\n",
    "\n",
    "model = tf.keras.Sequential([\n",
    "    tf.keras.layers.Dense(HIDDEN_LAYER_SIZE, activation='relu'),\n",
    "    tf.keras.layers.Dropout(0.3),\n",
    "\n",
    "    tf.keras.layers.Dense(HIDDEN_LAYER_SIZE, activation='relu'),\n",
    "    tf.keras.layers.Dropout(0.3),\n",
    "\n",
    "    tf.keras.layers.Dense(HIDDEN_LAYER_SIZE, activation='relu'),\n",
    "    tf.keras.layers.Dropout(0.3),\n",
    "\n",
    "    tf.keras.layers.Dense(HIDDEN_LAYER_SIZE, activation='relu'),\n",
    "    tf.keras.layers.Dropout(0.3),\n",
    "\n",
    "    tf.keras.layers.Dense(HIDDEN_LAYER_SIZE, activation='relu'),\n",
    "    tf.keras.layers.Dropout(0.3),\n",
    "\n",
    "    tf.keras.layers.Dense(OUTPUT_SIZE, activation='softmax'),\n",
    "\n",
    "])\n",
    "\n",
    "model.compile(optimizer='nadam', loss='sparse_categorical_crossentropy', metrics=['accuracy'])\n",
    "\n",
    "BATCH_SIZE = 1000\n",
    "MAX_EPOCHS = 100\n",
    "EARLY_STOPPING = tf.keras.callbacks.EarlyStopping(patience=2)\n",
    "\n",
    "model.fit(training_input,\n",
    "          training_output,\n",
    "          validation_data=(validating_input,validating_output),\n",
    "          batch_size=BATCH_SIZE,\n",
    "          epochs=MAX_EPOCHS,\n",
    "          callbacks=[EARLY_STOPPING],\n",
    "          verbose=2\n",
    "          )"
   ]
  },
  {
   "cell_type": "markdown",
   "metadata": {},
   "source": [
    "### Testing"
   ]
  },
  {
   "cell_type": "code",
   "execution_count": 8,
   "metadata": {},
   "outputs": [],
   "source": [
    "npz = np.load('Audiobook_testing.npz')\n",
    "test_input = npz['inputs'].astype(np.float64)\n",
    "test_output = npz['outputs'].astype(np.int32)"
   ]
  },
  {
   "cell_type": "code",
   "execution_count": 9,
   "metadata": {},
   "outputs": [
    {
     "name": "stdout",
     "output_type": "stream",
     "text": [
      "\u001b[1m14/14\u001b[0m \u001b[32m━━━━━━━━━━━━━━━━━━━━\u001b[0m\u001b[37m\u001b[0m \u001b[1m0s\u001b[0m 1ms/step - accuracy: 0.8230 - loss: 0.3697 \n"
     ]
    }
   ],
   "source": [
    "test_loss, test_accuracy = model.evaluate(test_input, test_output)"
   ]
  },
  {
   "cell_type": "code",
   "execution_count": null,
   "metadata": {},
   "outputs": [],
   "source": []
  }
 ],
 "metadata": {
  "kernelspec": {
   "display_name": ".venv",
   "language": "python",
   "name": "python3"
  },
  "language_info": {
   "codemirror_mode": {
    "name": "ipython",
    "version": 3
   },
   "file_extension": ".py",
   "mimetype": "text/x-python",
   "name": "python",
   "nbconvert_exporter": "python",
   "pygments_lexer": "ipython3",
   "version": "3.12.6"
  }
 },
 "nbformat": 4,
 "nbformat_minor": 2
}
